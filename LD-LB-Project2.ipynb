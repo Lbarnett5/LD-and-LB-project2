{
 "cells": [
  {
   "cell_type": "code",
   "execution_count": null,
   "id": "3a486fca",
   "metadata": {},
   "outputs": [],
   "source": [
    "import random\n",
    "while True:\n",
    "    question=input(\"Hello, I am the Magic 8 Ball. Please input a yes or no question. \")\n",
    "    responses = [\"It is certain\",\"It is decidedly so\",\"Without a doubt\",\"Yes definitely\",\"You may rely on it\",\"As I see it, yes\",\"Most likely\",\"Outlook good\",\"Yes\",\"Signs point to yes\",\"Reply hazy, try again\",\"Ask again later\",\"Better not tell you now\",\"Cannot predict now\",\"Concentrate and ask again\",\"Don't count on it\",\"My reply is no\",\"My sources say no\",\"Outlook not so good\",\"Very doubtful\"]\n",
    "    print(random.choice(responses))\n",
    "    \n",
    "\n",
    "    replay = input(\"Do you have another question? Yes/No: \")\n",
    "    if replay.lower() != \"yes\":\n",
    "        break"
   ]
  },
  {
   "cell_type": "code",
   "execution_count": null,
   "id": "a77aa282",
   "metadata": {},
   "outputs": [],
   "source": []
  }
 ],
 "metadata": {
  "kernelspec": {
   "display_name": "Python 3 (ipykernel)",
   "language": "python",
   "name": "python3"
  },
  "language_info": {
   "codemirror_mode": {
    "name": "ipython",
    "version": 3
   },
   "file_extension": ".py",
   "mimetype": "text/x-python",
   "name": "python",
   "nbconvert_exporter": "python",
   "pygments_lexer": "ipython3",
   "version": "3.9.12"
  }
 },
 "nbformat": 4,
 "nbformat_minor": 5
}
